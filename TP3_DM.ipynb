{
  "nbformat": 4,
  "nbformat_minor": 0,
  "metadata": {
    "colab": {
      "name": "TP3-DM.ipynb",
      "provenance": [],
      "collapsed_sections": [],
      "authorship_tag": "ABX9TyOIlhQhSadYZC3+iGCT95p3",
      "include_colab_link": true
    },
    "kernelspec": {
      "name": "python3",
      "display_name": "Python 3"
    },
    "language_info": {
      "name": "python"
    }
  },
  "cells": [
    {
      "cell_type": "markdown",
      "metadata": {
        "id": "view-in-github",
        "colab_type": "text"
      },
      "source": [
        "<a href=\"https://colab.research.google.com/github/SaidFayache/TP3-DataMining/blob/main/TP3_DM.ipynb\" target=\"_parent\"><img src=\"https://colab.research.google.com/assets/colab-badge.svg\" alt=\"Open In Colab\"/></a>"
      ]
    },
    {
      "cell_type": "markdown",
      "metadata": {
        "id": "edvYcp9IsdnS"
      },
      "source": [
        "## **I - Jeux de données**"
      ]
    },
    {
      "cell_type": "markdown",
      "metadata": {
        "id": "4ob2g9UysriA"
      },
      "source": [
        "### **1-Iris**"
      ]
    },
    {
      "cell_type": "code",
      "metadata": {
        "id": "9-GLLCOEsUGB"
      },
      "source": [
        "from IPython.display import IFrame\n",
        "IFrame('http://archive.ics.uci.edu/ml/machine-learning-databases/iris/iris.data',width=300, height=200)"
      ],
      "execution_count": null,
      "outputs": []
    },
    {
      "cell_type": "code",
      "metadata": {
        "id": "VvtQUZjvtPRY"
      },
      "source": [
        "from sklearn import datasets\n",
        "irisData = datasets.load_iris()\n",
        "print (irisData.data)\n",
        "print (irisData.target)"
      ],
      "execution_count": null,
      "outputs": []
    },
    {
      "cell_type": "code",
      "metadata": {
        "colab": {
          "base_uri": "https://localhost:8080/"
        },
        "id": "9bB72K5muI0f",
        "outputId": "8183927d-3002-4486-9659-e2af5c552829"
      },
      "source": [
        "print(\"Le tableau de données est de dimension\" , irisData.data.shape)"
      ],
      "execution_count": 10,
      "outputs": [
        {
          "output_type": "stream",
          "text": [
            "Le tableau de données est de dimension (150, 4)\n"
          ],
          "name": "stdout"
        }
      ]
    },
    {
      "cell_type": "markdown",
      "metadata": {
        "id": "A3HomeN8vT7J"
      },
      "source": [
        "Le tableau de données est de dimension (150, 4), donc on a 150 entrée dans notre dataset avec chaque entrée contenant 4 valeurs spécifiques ( qui permettent de définir le type d'iris)\n"
      ]
    },
    {
      "cell_type": "code",
      "metadata": {
        "colab": {
          "base_uri": "https://localhost:8080/"
        },
        "id": "IvupyYHkvoD-",
        "outputId": "d303c50f-d767-4dc6-a9ca-9dd1f99dd86d"
      },
      "source": [
        "import collections, numpy\n",
        "print(\"On a\", collections.Counter(irisData.target)[0], \"données de classe 0 :\", irisData.target_names[0])\n",
        "print(\"On a\", collections.Counter(irisData.target)[1], \"données de classe 1 :\", irisData.target_names[1])\n",
        "print(\"On a\", collections.Counter(irisData.target)[2], \"données de classe 2 :\", irisData.target_names[2])"
      ],
      "execution_count": 21,
      "outputs": [
        {
          "output_type": "stream",
          "text": [
            "On a 50 de données de classe 0 : setosa\n",
            "On a 50 de données de classe 1 : versicolor\n",
            "On a 50 de données de classe 2 : virginica\n"
          ],
          "name": "stdout"
        }
      ]
    },
    {
      "cell_type": "markdown",
      "metadata": {
        "id": "dHBsdFPYxuem"
      },
      "source": [
        "On a donc 50 donnée de classe 0 & 50 de classe 1 et 50 de classe 2 => total = 150 ( c'est le nombre de données dans le dataset)"
      ]
    },
    {
      "cell_type": "code",
      "metadata": {
        "colab": {
          "base_uri": "https://localhost:8080/"
        },
        "id": "BIWDwdJAyJGX",
        "outputId": "cc96f8a4-814c-4d53-ba15-a5fe6691eee6"
      },
      "source": [
        "print(\"le 32eme element a comme données\", irisData.data[32], \"et est de classe\", irisData.target[32], \"qui est la classe\", irisData.target_names[irisData.target[32]])"
      ],
      "execution_count": 23,
      "outputs": [
        {
          "output_type": "stream",
          "text": [
            "le 32eme element a comme données [5.2 4.1 1.5 0.1] et est de classe 0 qui est la classe setosa\n"
          ],
          "name": "stdout"
        }
      ]
    },
    {
      "cell_type": "code",
      "metadata": {
        "id": "m24UCwWrzCMw"
      },
      "source": [
        "import matplotlib\n",
        "import pylab as pl\n",
        "from itertools import cycle\n",
        "def plot_2D(data, target, target_names):\n",
        "  colors = cycle('rgbcmykw') # cycle de couleurs\n",
        "  target_ids = range(len(target_names))\n",
        "  pl.figure()\n",
        "  for i, c, label in zip(target_ids, colors, target_names):\n",
        "    pl.scatter(data[target == i, 0], data[target == i, 1], c=c, label=label)\n",
        "  pl.legend()\n",
        "  pl.show()"
      ],
      "execution_count": 34,
      "outputs": []
    },
    {
      "cell_type": "code",
      "metadata": {
        "colab": {
          "base_uri": "https://localhost:8080/",
          "height": 268
        },
        "id": "9TJWlT6oztuj",
        "outputId": "604e8d73-11dc-4eec-ce31-7b714a6a14b1"
      },
      "source": [
        "plot_2D(irisData.data,irisData.target,irisData.target_names)"
      ],
      "execution_count": 35,
      "outputs": [
        {
          "output_type": "display_data",
          "data": {
            "image/png": "[encoded data removed]",
            "text/plain": [
              "<Figure size 432x288 with 1 Axes>"
            ]
          },
          "metadata": {
            "tags": [],
            "needs_background": "light"
          }
        }
      ]
    },
    {
      "cell_type": "markdown",
      "metadata": {
        "id": "jvVdBgFh0f-X"
      },
      "source": [
        "## **II - Un premier apprentissage de classiffieur**"
      ]
    },
    {
      "cell_type": "code",
      "metadata": {
        "colab": {
          "base_uri": "https://localhost:8080/"
        },
        "id": "i9k05ASI280G",
        "outputId": "7dc1731a-ceef-4c69-9c57-a5828a4c722a"
      },
      "source": [
        "from sklearn import naive_bayes\n",
        "nb = naive_bayes.MultinomialNB(fit_prior=True)# un algo d'apprentissage\n",
        "irisData = datasets.load_iris()\n",
        "nb.fit(irisData.data[:-1], irisData.target[:-1])\n",
        "p31 = nb.predict(irisData.data[31].reshape(1, -1))\n",
        "print(p31) ## resultat : la prediction de la 32eme donnée\n",
        "plast = nb.predict(irisData.data[-1].reshape(1, -1))\n",
        "print(plast) # prediction de la derniere donnée dans le tableau d'entrée\n",
        "p = nb.predict(irisData.data[:])\n",
        "print(p) # la prediction de tous les données "
      ],
      "execution_count": 39,
      "outputs": [
        {
          "output_type": "stream",
          "text": [
            "[0]\n",
            "[2]\n",
            "[0 0 0 0 0 0 0 0 0 0 0 0 0 0 0 0 0 0 0 0 0 0 0 0 0 0 0 0 0 0 0 0 0 0 0 0 0\n",
            " 0 0 0 0 0 0 0 0 0 0 0 0 0 1 1 1 1 1 1 1 1 1 1 1 1 1 1 1 1 1 1 1 1 1 1 1 1\n",
            " 1 1 1 1 1 1 1 1 1 2 1 1 1 1 1 1 1 1 1 1 1 1 1 1 1 1 2 2 2 2 2 2 2 2 2 2 2\n",
            " 2 2 2 2 2 2 2 2 2 2 2 2 2 2 1 2 2 2 1 2 1 2 1 2 2 2 2 2 2 2 2 2 2 2 2 2 2\n",
            " 2 2]\n"
          ],
          "name": "stdout"
        }
      ]
    },
    {
      "cell_type": "code",
      "metadata": {
        "colab": {
          "base_uri": "https://localhost:8080/"
        },
        "id": "fradQN_v5ZIu",
        "outputId": "5a4132fd-0d34-45c2-f109-16050648084c"
      },
      "source": [
        "nb.fit(irisData.data[:99], irisData.target[:99])\n",
        "nb.predict(irisData.data[100:149])"
      ],
      "execution_count": 41,
      "outputs": [
        {
          "output_type": "execute_result",
          "data": {
            "text/plain": [
              "array([1, 1, 1, 1, 1, 1, 1, 1, 1, 1, 1, 1, 1, 1, 1, 1, 1, 1, 1, 1, 1, 1,\n",
              "       1, 1, 1, 1, 1, 1, 1, 1, 1, 1, 1, 1, 1, 1, 1, 1, 1, 1, 1, 1, 1, 1,\n",
              "       1, 1, 1, 1, 1])"
            ]
          },
          "metadata": {
            "tags": []
          },
          "execution_count": 41
        }
      ]
    },
    {
      "cell_type": "markdown",
      "metadata": {
        "id": "3vDb79y55fA2"
      },
      "source": [
        "ce programme entraine le model sur 2/3 du dataset ( 0 -> 99) et test sur les 1/3 restants ( 100 -> 149 ), les resultats ne sont pas cohérants car les 50 dernieres données sont toutes de classe 2 et le model n'a été entrainé que sur des classes 0 ou 1 ( car tableau ordonné) donc il faudrait désordoner en meme temps les data et target puis diviser les données d'entrainement et de test pour que notre modele s'entraine sur des données differentes"
      ]
    },
    {
      "cell_type": "markdown",
      "metadata": {
        "id": "qtwQJHcO6imG"
      },
      "source": [
        "## **III - Evaluer les performances d'un classiffieur**"
      ]
    },
    {
      "cell_type": "code",
      "metadata": {
        "id": "F_a4Vub16l9g"
      },
      "source": [
        "def erreurAprentissage(data, target, predicted):\n",
        "    ea = 0\n",
        "    for i in range(len(data)):\n",
        "        if (predicted[i] != target[i]):\n",
        "            ea = ea+1\n",
        "    print(ea / len(data))"
      ],
      "execution_count": 48,
      "outputs": []
    },
    {
      "cell_type": "code",
      "metadata": {
        "id": "9lJdDQ1f7yMO"
      },
      "source": [
        "def erreurAprentissage2(data, target, predicted):\n",
        "    ea = (predicted-target != 0).sum()\n",
        "    print(ea / len(data))"
      ],
      "execution_count": 49,
      "outputs": []
    },
    {
      "cell_type": "code",
      "metadata": {
        "id": "qJBKzBMc8Xuu"
      },
      "source": [
        "def erreurAprentissage3(clf, data, target):\n",
        "    ea= 1 - clf.score(data, target)\n",
        "    print(ea)\n",
        "    "
      ],
      "execution_count": 62,
      "outputs": []
    },
    {
      "cell_type": "code",
      "metadata": {
        "id": "svc6870y9bVf"
      },
      "source": [
        "nb.fit(irisData.data[:-1], irisData.target[:-1])\n",
        "data = irisData.data[:]\n",
        "predicted = nb.predict(irisData.data[:])\n",
        "target = irisData.target[:]"
      ],
      "execution_count": 75,
      "outputs": []
    },
    {
      "cell_type": "code",
      "metadata": {
        "colab": {
          "base_uri": "https://localhost:8080/"
        },
        "id": "0dr63xug-AGN",
        "outputId": "84ca8413-97e5-46a7-dacd-8461807aa83f"
      },
      "source": [
        "erreurAprentissage(data, target, predicted)\n",
        "erreurAprentissage2(data, target, predicted)\n",
        "erreurAprentissage3(nb, data, target)"
      ],
      "execution_count": 77,
      "outputs": [
        {
          "output_type": "stream",
          "text": [
            "0.03333333333333333\n",
            "0.03333333333333333\n",
            "0.033333333333333326\n"
          ],
          "name": "stdout"
        }
      ]
    },
    {
      "cell_type": "markdown",
      "metadata": {
        "id": "y6WerFQIAkrN"
      },
      "source": [
        "Pour notre cas, le model est overfitted car entrainé sur data - 1 valeur et testé sur toute la data => testSet ~= TrainingSet, c'est pour cela que l'erreur est minime ~ 0.03 "
      ]
    }
  ]
}